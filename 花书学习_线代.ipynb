{
  "nbformat": 4,
  "nbformat_minor": 0,
  "metadata": {
    "colab": {
      "name": "花书学习-线代",
      "provenance": [],
      "authorship_tag": "ABX9TyMZo5G+O7WEmuawvXJnd/qs",
      "include_colab_link": true
    },
    "kernelspec": {
      "name": "python3",
      "display_name": "Python 3"
    }
  },
  "cells": [
    {
      "cell_type": "markdown",
      "metadata": {
        "id": "view-in-github",
        "colab_type": "text"
      },
      "source": [
        "<a href=\"https://colab.research.google.com/github/ZJYCP/DL_learn/blob/master/%E8%8A%B1%E4%B9%A6%E5%AD%A6%E4%B9%A0_%E7%BA%BF%E4%BB%A3.ipynb\" target=\"_parent\"><img src=\"https://colab.research.google.com/assets/colab-badge.svg\" alt=\"Open In Colab\"/></a>"
      ]
    },
    {
      "cell_type": "code",
      "metadata": {
        "id": "ChGIMtvguEwp",
        "colab_type": "code",
        "colab": {}
      },
      "source": [
        "import numpy as np"
      ],
      "execution_count": 3,
      "outputs": []
    },
    {
      "cell_type": "markdown",
      "metadata": {
        "id": "1FSGFHdAudjg",
        "colab_type": "text"
      },
      "source": [
        "## 基本概念\n",
        "1. 向量：单独的一个数 用斜体小写字母表示， $s \\in \\mathcal R$\n",
        "2. 向量 通常为列向量  $x_{-1}$表示除了x1的所有元素，即补集 \n",
        "3. 矩阵 **二维数组**   $A \\in \\mathbb R^{m \\times n}$表示取实数的m行n列矩阵 $A_{i,j}$表示其元素\n",
        "4. 张量 超过二维的数组"
      ]
    },
    {
      "cell_type": "code",
      "metadata": {
        "id": "bWwBK3Qxwxoa",
        "colab_type": "code",
        "colab": {
          "base_uri": "https://localhost:8080/",
          "height": 221
        },
        "outputId": "3b401b28-8d92-4364-c5cb-6749377580c0"
      },
      "source": [
        "import numpy as np\n",
        "\n",
        "# scalar\n",
        "s = 5\n",
        "\n",
        "# vector\n",
        "v = np.array([1,2])\n",
        "\n",
        "# matrix\n",
        "m = np.array([[1,2],[3,4]])\n",
        "\n",
        "# tensor\n",
        "t = np.array([\n",
        "  [[1,2,3],[4,5,6],[7,8,9]],\n",
        "  [[11,12,13],[14,15,16],[17,18,19]],\n",
        "  [[21,22,23],[24,25,26],[27,28,29]],\n",
        "])\n",
        "\n",
        "print(s,v,m,t)"
      ],
      "execution_count": null,
      "outputs": [
        {
          "output_type": "stream",
          "text": [
            "5 [1 2] [[1 2]\n",
            " [3 4]] [[[ 1  2  3]\n",
            "  [ 4  5  6]\n",
            "  [ 7  8  9]]\n",
            "\n",
            " [[11 12 13]\n",
            "  [14 15 16]\n",
            "  [17 18 19]]\n",
            "\n",
            " [[21 22 23]\n",
            "  [24 25 26]\n",
            "  [27 28 29]]]\n"
          ],
          "name": "stdout"
        }
      ]
    },
    {
      "cell_type": "markdown",
      "metadata": {
        "id": "e1xsw_mCxPk3",
        "colab_type": "text"
      },
      "source": [
        "## 矩阵转置 \n",
        "transpose 沿对角线进行翻转\n",
        "\n",
        "$A_{i,j}^\\top = A_{j,i}$"
      ]
    },
    {
      "cell_type": "code",
      "metadata": {
        "id": "brPU4L5uyBeS",
        "colab_type": "code",
        "colab": {
          "base_uri": "https://localhost:8080/",
          "height": 102
        },
        "outputId": "b6da98da-c1a9-46bf-c721-baa6732f165b"
      },
      "source": [
        "A = np.array([[1,2],[2,3],[3,4]])\n",
        "A_t = A.T\n",
        "#A.transpose()\n",
        "\n",
        "print(A)\n",
        "print(A_t)"
      ],
      "execution_count": null,
      "outputs": [
        {
          "output_type": "stream",
          "text": [
            "[[1 2]\n",
            " [2 3]\n",
            " [3 4]]\n",
            "[[1 2 3]\n",
            " [2 3 4]]\n"
          ],
          "name": "stdout"
        }
      ]
    },
    {
      "cell_type": "markdown",
      "metadata": {
        "id": "2WrCiOnYynmr",
        "colab_type": "text"
      },
      "source": [
        "## 矩阵加法\n",
        "对应元素相加  要求形状一样\n",
        "数乘 标量和每个元素相乘\n"
      ]
    },
    {
      "cell_type": "markdown",
      "metadata": {
        "id": "Al59oqllzJMQ",
        "colab_type": "text"
      },
      "source": [
        "## 矩阵乘法\n",
        "$C=AB$\n",
        "要求A的形状为m×n，B的形状为n*p，得到m*p\n",
        "\n",
        "元素对应相乘叫做**Hadamard乘积**，记作$A \\odot B$\n",
        "\n",
        "向量的点乘或内积可以表示为$x^ \\top y$"
      ]
    },
    {
      "cell_type": "code",
      "metadata": {
        "id": "DDsw3HVz0Jhl",
        "colab_type": "code",
        "colab": {
          "base_uri": "https://localhost:8080/",
          "height": 102
        },
        "outputId": "1fd9ad9b-02ae-4901-9748-747c2bb7e75e"
      },
      "source": [
        "m1 = np.array([[1.0,3.0],[1.0,0.0]])\n",
        "m2 = np.array([[1.0,2.0],[5.0,0.0]])\n",
        "print(m1,'\\n-----\\n',m2)"
      ],
      "execution_count": null,
      "outputs": [
        {
          "output_type": "stream",
          "text": [
            "[[1. 3.]\n",
            " [1. 0.]] \n",
            "-----\n",
            " [[1. 2.]\n",
            " [5. 0.]]\n"
          ],
          "name": "stdout"
        }
      ]
    },
    {
      "cell_type": "code",
      "metadata": {
        "id": "OMcptyklzIOz",
        "colab_type": "code",
        "colab": {
          "base_uri": "https://localhost:8080/",
          "height": 102
        },
        "outputId": "c8dff601-7348-4640-8e1b-4aafbf53cde0"
      },
      "source": [
        "print('矩阵乘法',np.dot(m1,m2))\n",
        "\n",
        "print('按元素相乘',np.multiply(m1,m2)) # m1*m2\n",
        "\n",
        "v1 = np.array([1.0,2.0])\n",
        "v2 = np.array([4.0,5.0])\n",
        "print(\"向量内积：\", np.dot(v1, v2))"
      ],
      "execution_count": null,
      "outputs": [
        {
          "output_type": "stream",
          "text": [
            "矩阵乘法 [[16.  2.]\n",
            " [ 1.  2.]]\n",
            "按元素相乘 [[1. 6.]\n",
            " [5. 0.]]\n",
            "向量内积： 14.0\n"
          ],
          "name": "stdout"
        }
      ]
    },
    {
      "cell_type": "markdown",
      "metadata": {
        "id": "ejTtjsMG01G7",
        "colab_type": "text"
      },
      "source": [
        "## 单位矩阵\n",
        "Identity matrix\n",
        "单位矩阵乘以任何一个向量都等于这个向量本身\n",
        "$$\n",
        " \\left\\[\n",
        " \\begin{matrix}\n",
        "   1 & 0 & 0 \\\\\n",
        "   0 & 1 & 0 \\\\\n",
        "   0 & 0 & 1 \n",
        "  \\end{matrix}\n",
        "  \\right]} \n",
        "$$"
      ]
    },
    {
      "cell_type": "code",
      "metadata": {
        "id": "fKWsijB7wsfG",
        "colab_type": "code",
        "colab": {
          "base_uri": "https://localhost:8080/",
          "height": 68
        },
        "outputId": "971afb58-ad4b-40e4-844b-f58ec283cc49"
      },
      "source": [
        "np.identity(3)"
      ],
      "execution_count": 4,
      "outputs": [
        {
          "output_type": "execute_result",
          "data": {
            "text/plain": [
              "array([[1., 0., 0.],\n",
              "       [0., 1., 0.],\n",
              "       [0., 0., 1.]])"
            ]
          },
          "metadata": {
            "tags": []
          },
          "execution_count": 4
        }
      ]
    },
    {
      "cell_type": "markdown",
      "metadata": {
        "id": "EqAqQoaVw2Wh",
        "colab_type": "text"
      },
      "source": [
        "## 矩阵的逆\n",
        "$A^{-1}$\n",
        "![深度截图_选择区域_20200827195447.png](data:image/png;base64,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)"
      ]
    },
    {
      "cell_type": "code",
      "metadata": {
        "id": "PX4db5H400bq",
        "colab_type": "code",
        "colab": {
          "base_uri": "https://localhost:8080/",
          "height": 51
        },
        "outputId": "7ac15e56-4759-44c8-f23d-713529753512"
      },
      "source": [
        "A = [[1,2],[3,4]]\n",
        "A_inv = np.linalg.inv(A)\n",
        "A_inv"
      ],
      "execution_count": 5,
      "outputs": [
        {
          "output_type": "execute_result",
          "data": {
            "text/plain": [
              "array([[-2. ,  1. ],\n",
              "       [ 1.5, -0.5]])"
            ]
          },
          "metadata": {
            "tags": []
          },
          "execution_count": 5
        }
      ]
    },
    {
      "cell_type": "markdown",
      "metadata": {
        "id": "jyes1UWHyODz",
        "colab_type": "text"
      },
      "source": [
        "## 范数\n",
        "![image.png](data:image/png;base64,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)\n",
        "\n"
      ]
    },
    {
      "cell_type": "code",
      "metadata": {
        "id": "OrrHSOdHx_lo",
        "colab_type": "code",
        "colab": {
          "base_uri": "https://localhost:8080/",
          "height": 68
        },
        "outputId": "287833ef-9785-4e8b-ef36-b3c962ebd6e4"
      },
      "source": [
        "a = np.array([1,1])\n",
        "print(np.linalg.norm(a,ord=2))\n",
        "print(np.linalg.norm(a,ord=1))\n",
        "print(np.linalg.norm(a,ord=np.inf))"
      ],
      "execution_count": 7,
      "outputs": [
        {
          "output_type": "stream",
          "text": [
            "1.4142135623730951\n",
            "2.0\n",
            "1.0\n"
          ],
          "name": "stdout"
        }
      ]
    },
    {
      "cell_type": "markdown",
      "metadata": {
        "id": "fpUq__mS80Nr",
        "colab_type": "text"
      },
      "source": [
        "## 特征值分解\n"
      ]
    },
    {
      "cell_type": "code",
      "metadata": {
        "id": "9IVDAX4a82b1",
        "colab_type": "code",
        "colab": {
          "base_uri": "https://localhost:8080/",
          "height": 102
        },
        "outputId": "87a883bb-fd09-43cb-ee0e-74448aa1900c"
      },
      "source": [
        "A = np.array([[1,2,3],\n",
        "              [4,5,6],\n",
        "              [7,8,9]])\n",
        "\n",
        "print(np.linalg.eigvals(A))\n",
        "\n",
        "eigvals,eigvectors = np.linalg.eig(A)\n",
        "print(eigvals)\n",
        "print(eigvectors)"
      ],
      "execution_count": 8,
      "outputs": [
        {
          "output_type": "stream",
          "text": [
            "[ 1.61168440e+01 -1.11684397e+00 -1.30367773e-15]\n",
            "[ 1.61168440e+01 -1.11684397e+00 -1.30367773e-15]\n",
            "[[-0.23197069 -0.78583024  0.40824829]\n",
            " [-0.52532209 -0.08675134 -0.81649658]\n",
            " [-0.8186735   0.61232756  0.40824829]]\n"
          ],
          "name": "stdout"
        }
      ]
    },
    {
      "cell_type": "code",
      "metadata": {
        "id": "t67QrTuI9Ugl",
        "colab_type": "code",
        "colab": {}
      },
      "source": [
        ""
      ],
      "execution_count": null,
      "outputs": []
    }
  ]
}