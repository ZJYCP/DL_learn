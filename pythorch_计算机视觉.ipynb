{
  "nbformat": 4,
  "nbformat_minor": 0,
  "metadata": {
    "colab": {
      "name": "pythorch_计算机视觉.ipynb",
      "provenance": [],
      "collapsed_sections": [],
      "toc_visible": true,
      "mount_file_id": "14ScneASD42wmkrRtu5I05hXIsiJi8rgC",
      "authorship_tag": "ABX9TyOcJnK/ujpyD4a+LADkFE70",
      "include_colab_link": true
    },
    "kernelspec": {
      "name": "python3",
      "display_name": "Python 3"
    },
    "accelerator": "GPU"
  },
  "cells": [
    {
      "cell_type": "markdown",
      "metadata": {
        "id": "view-in-github",
        "colab_type": "text"
      },
      "source": [
        "<a href=\"https://colab.research.google.com/github/ZJYCP/DL_learn/blob/master/pythorch_%E8%AE%A1%E7%AE%97%E6%9C%BA%E8%A7%86%E8%A7%89.ipynb\" target=\"_parent\"><img src=\"https://colab.research.google.com/assets/colab-badge.svg\" alt=\"Open In Colab\"/></a>"
      ]
    },
    {
      "cell_type": "code",
      "metadata": {
        "id": "I7swCxaNk0mT",
        "colab_type": "code",
        "colab": {
          "base_uri": "https://localhost:8080/",
          "height": 34
        },
        "outputId": "f87ab69a-0bfe-4e9a-909e-943afc22f888"
      },
      "source": [
        "from google.colab import drive\n",
        "drive.mount('/content/drive')"
      ],
      "execution_count": null,
      "outputs": [
        {
          "output_type": "stream",
          "text": [
            "Drive already mounted at /content/drive; to attempt to forcibly remount, call drive.mount(\"/content/drive\", force_remount=True).\n"
          ],
          "name": "stdout"
        }
      ]
    },
    {
      "cell_type": "markdown",
      "metadata": {
        "id": "dPUQr2wygim-",
        "colab_type": "text"
      },
      "source": [
        "# 下载数据"
      ]
    },
    {
      "cell_type": "code",
      "metadata": {
        "id": "YGZwxKQ-g0EK",
        "colab_type": "code",
        "colab": {}
      },
      "source": [
        "import torch\n",
        "from torch import nn\n",
        "import torchvision.transforms as transforms\n",
        "import torchvision"
      ],
      "execution_count": null,
      "outputs": []
    },
    {
      "cell_type": "code",
      "metadata": {
        "id": "THb13XMlgbKn",
        "colab_type": "code",
        "colab": {}
      },
      "source": [
        "def get_data():\n",
        "  transform = transforms.Compose(\n",
        "      [transforms.ToTensor(),\n",
        "       transforms.Normalize((0.5, 0.5, 0.5), (0.5, 0.5, 0.5))\n",
        "       ]\n",
        "  )\n",
        "  train_set = torchvision.datasets.CIFAR10(\n",
        "      root='./data',train=True,download=True,transform=transform\n",
        "  )\n",
        "  train_loader = torch.utils.data.DataLoader(\n",
        "      train_set, batch_size=100, shuffle=True, num_workers=2\n",
        "  )\n",
        "  test_set = torchvision.datasets.CIFAR10(\n",
        "      root='./data', train=False, download=True, transform=transform\n",
        "  )\n",
        "  test_loader = torch.utils.data.DataLoader(\n",
        "      test_set, batch_size=100, shuffle=True, num_workers=2\n",
        "  )\n",
        "  return train_loader, test_loader\n"
      ],
      "execution_count": null,
      "outputs": []
    },
    {
      "cell_type": "code",
      "metadata": {
        "id": "IGNNp123pktl",
        "colab_type": "code",
        "colab": {}
      },
      "source": [
        "class Conv(nn.module):\n",
        "  def __init__(self,in_channels, out_channels, kernel_size, stride = 1)"
      ],
      "execution_count": null,
      "outputs": []
    },
    {
      "cell_type": "code",
      "metadata": {
        "id": "mNM8pvD0MEu5",
        "colab_type": "code",
        "colab": {}
      },
      "source": [
        "import torch.nn.functional as F\n",
        "from torch import optim"
      ],
      "execution_count": null,
      "outputs": []
    },
    {
      "cell_type": "code",
      "metadata": {
        "id": "imzK0dGxmtkI",
        "colab_type": "code",
        "colab": {}
      },
      "source": [
        "class SimpleCNNModel(nn.Module):\n",
        "  def __init__(self):\n",
        "    super().__init__()\n",
        "    self.conv1 = nn.Conv2d(3, 6, 5)  # 32-5 +1=28\n",
        "    self.pool1 =  nn.MaxPool2d(2) # 28 / 2 =14\n",
        "    self.conv2 = nn.Conv2d(6, 16, 5)  # 14 - 5 + 1= 10\n",
        "    self.pool2 = nn.MaxPool2d(2)  #10 / 2 = 5\n",
        "    self.fc1 = nn.Linear(16*5*5, 120)\n",
        "    self.fc2 = nn.Linear(120, 84)\n",
        "    self.fc3 = nn.Linear(84, 10)\n",
        "\n",
        "  def forward(self, x):\n",
        "    x = self.pool1(F.relu(self.conv1(x)))\n",
        "    x = self.pool2(F.relu(self.conv2(x)))\n",
        "    x = x.view(-1, 16*5*5)\n",
        "    x = F.relu(self.fc1(x))\n",
        "    x = F.relu(self.fc2(x))\n",
        "    x = F.relu(self.fc3(x))\n",
        "    return x"
      ],
      "execution_count": null,
      "outputs": []
    },
    {
      "cell_type": "code",
      "metadata": {
        "id": "PXwj-3ZqMmTB",
        "colab_type": "code",
        "colab": {
          "base_uri": "https://localhost:8080/",
          "height": 51
        },
        "outputId": "ad538d3a-24b6-48d4-9713-aa887b3039a5"
      },
      "source": [
        "CUDA = torch.cuda.is_available()\n",
        "net = SimpleCNNModel()\n",
        "if CUDA:\n",
        "  net = net.cuda()\n",
        "\n",
        "loss_fn = nn.CrossEntropyLoss()\n",
        "optimizer = optim.SGD(net.parameters(),lr=0.01,momentum=0.9)\n",
        "trainloader,testloader = get_data()"
      ],
      "execution_count": null,
      "outputs": [
        {
          "output_type": "stream",
          "text": [
            "Files already downloaded and verified\n",
            "Files already downloaded and verified\n"
          ],
          "name": "stdout"
        }
      ]
    },
    {
      "cell_type": "code",
      "metadata": {
        "id": "F1EzSmSGNgjr",
        "colab_type": "code",
        "colab": {
          "base_uri": "https://localhost:8080/",
          "height": 187
        },
        "outputId": "0c1d8335-00b1-4362-f696-4c60a4c6d82b"
      },
      "source": [
        "for epoch in range(2):\n",
        "  loss_sum = 0\n",
        "  for i, data in enumerate(trainloader):\n",
        "    inputs, labels = data\n",
        "    if CUDA:\n",
        "      inputs = inputs.cuda()\n",
        "      labels = labels.cuda()\n",
        "    optimizer.zero_grad()\n",
        "    outputs = net(inputs)\n",
        "\n",
        "    loss = loss_fn(outputs, labels)\n",
        "    loss.backward()\n",
        "\n",
        "    optimizer.step()\n",
        "\n",
        "    loss_sum += loss.item()\n",
        "    if (i+1) % 100 == 0:\n",
        "      print('epoch:{},iter:{},loss:{:.6f}'.format(epoch,i,loss_sum/100))\n",
        "      loss_sum = 0"
      ],
      "execution_count": null,
      "outputs": [
        {
          "output_type": "stream",
          "text": [
            "epoch:0,iter:99,loss:23.009560\n",
            "epoch:0,iter:199,loss:22.824678\n",
            "epoch:0,iter:299,loss:21.982625\n",
            "epoch:0,iter:399,loss:21.146993\n",
            "epoch:0,iter:499,loss:20.041165\n",
            "epoch:1,iter:99,loss:18.484827\n",
            "epoch:1,iter:199,loss:17.533159\n",
            "epoch:1,iter:299,loss:16.907146\n",
            "epoch:1,iter:399,loss:16.371433\n",
            "epoch:1,iter:499,loss:14.483009\n"
          ],
          "name": "stdout"
        }
      ]
    },
    {
      "cell_type": "code",
      "metadata": {
        "id": "b57mWUJOPE8H",
        "colab_type": "code",
        "colab": {
          "base_uri": "https://localhost:8080/",
          "height": 34
        },
        "outputId": "7c6e86d3-fc2c-4217-da10-de8c45be5121"
      },
      "source": [
        "correct = 0\n",
        "total = 0\n",
        "for data in testloader:\n",
        "  images, labels = data\n",
        "  if CUDA:\n",
        "    images = images.cuda()\n",
        "    labels = labels.cuda()\n",
        "  outputs = net(images)\n",
        "\n",
        "  index, value = torch.max(outputs, 1)\n",
        "  total += labels.size(0)\n",
        "  correct += (value == labels).sum()\n",
        "print('Accuracy: {:.5f}'.format(100*correct//total))"
      ],
      "execution_count": null,
      "outputs": [
        {
          "output_type": "stream",
          "text": [
            "Accuracy: 48.00000\n"
          ],
          "name": "stdout"
        }
      ]
    },
    {
      "cell_type": "code",
      "metadata": {
        "id": "orhYNTY3zxzt",
        "colab_type": "code",
        "colab": {
          "base_uri": "https://localhost:8080/",
          "height": 102
        },
        "outputId": "3daddbbc-7e2e-4779-85db-948bd04b8531"
      },
      "source": [
        "! git clone https://github.com/hhsecond/HandsOnDeepLearningWithPytorch.git"
      ],
      "execution_count": null,
      "outputs": [
        {
          "output_type": "stream",
          "text": [
            "Cloning into 'HandsOnDeepLearningWithPytorch'...\n",
            "remote: Enumerating objects: 940, done.\u001b[K\n",
            "remote: Total 940 (delta 0), reused 0 (delta 0), pack-reused 940\u001b[K\n",
            "Receiving objects: 100% (940/940), 204.96 KiB | 389.00 KiB/s, done.\n",
            "Resolving deltas: 100% (494/494), done.\n"
          ],
          "name": "stdout"
        }
      ]
    },
    {
      "cell_type": "code",
      "metadata": {
        "id": "pQzFBz-E0btJ",
        "colab_type": "code",
        "colab": {
          "base_uri": "https://localhost:8080/",
          "height": 34
        },
        "outputId": "347bf3a9-e0e0-451a-8d3b-dd1e45108440"
      },
      "source": [
        "% cd /content/HandsOnDeepLearningWithPytorch/4.ComputerVision/SimpleCNN"
      ],
      "execution_count": null,
      "outputs": [
        {
          "output_type": "stream",
          "text": [
            "/content/HandsOnDeepLearningWithPytorch/4.ComputerVision/SimpleCNN\n"
          ],
          "name": "stdout"
        }
      ]
    },
    {
      "cell_type": "code",
      "metadata": {
        "id": "gYIFv8kc0vro",
        "colab_type": "code",
        "colab": {}
      },
      "source": [
        "! python simpleCNN.py"
      ],
      "execution_count": null,
      "outputs": []
    },
    {
      "cell_type": "code",
      "metadata": {
        "id": "B-F07g9E5ZN5",
        "colab_type": "code",
        "colab": {
          "base_uri": "https://localhost:8080/",
          "height": 34
        },
        "outputId": "d24d9e5e-ba4e-416e-bf59-fdc461238db6"
      },
      "source": [
        "print(torch.cuda.is_available())"
      ],
      "execution_count": null,
      "outputs": [
        {
          "output_type": "stream",
          "text": [
            "True\n"
          ],
          "name": "stdout"
        }
      ]
    }
  ]
}